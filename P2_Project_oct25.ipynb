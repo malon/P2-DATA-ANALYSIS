{
 "cells": [
  {
   "cell_type": "markdown",
   "metadata": {
    "collapsed": false
   },
   "source": [
    "## Studying the Titanic DataSet"
   ]
  },
  {
   "cell_type": "markdown",
   "metadata": {},
   "source": [
    "### 1. Wrangling data"
   ]
  },
  {
   "cell_type": "markdown",
   "metadata": {},
   "source": [
    "#### 1.1 Acquire, first look\n",
    "\n",
    "First, we import the data and have a general look at it. We have a sample of 891 passengers, but we see that the data is not complete, we are missing 177 age registries, 2 port of embarkment and 687 cabin ones (which could mean the data is missing or the passenger didn't have a cabin). \n",
    "\n",
    "A further study of the missing age registries tell us how many of them correspond to each gender and each survival characteristic. These registries are not evenly distributed among those variables, and they represent the 19% of the data to study. We want to analyze and compare several variables, including age, so we decided to ignore the incomplete registries, for they could affect to our results when comparing all the variables. Knowing that it means that our sample is losing almost a 10% of the total passengers (from the 40% to the 32%).\n",
    "\n",
    "\n",
    "\n",
    "|Sex   |Missing|-|Survived|Missing| \n",
    "|------|-------|-|--------|-------|\n",
    "|female|     53|-|0       |    125| \n",
    "|male  |    124|-|1       |     52| \n",
    "<center>Missing age registries</center>\n",
    "\n",
    "\n",
    "|                   | Passengers|% of total|\n",
    "|-------------------|-----------|----------|\n",
    "|Total              | 2224      | 100%     |\n",
    "|Data set           |891        |40%       |\n",
    "|Complete registries|714        |32%       |\n",
    "<center>Total percentages of passengers</center>\n",
    "\n",
    "Among the variables, we want to analyze as dependent variable the passengers' survival, and as independent variables the gender, the age, the passenger class and the port of Embarkment.\n",
    "\n",
    "In this latter case, the port of Embarkment, we are only missing two registries, which we consider acceptable and we will just ignore that fact for our study as it shouldn't really affect to the results.\n",
    "\n",
    "#### 1.2 Limitations of our study\n",
    "Given the fact that the total passengers of the Titanic where 2224, the dataset represents the 40% of the population, but the complete registries represent only the 32% of the population. We have to be very cautious when making conclusions since we are just observing a small amount of the passengers.\n",
    "\n",
    "Furthermore, we are not carrying out any statistical test to conclude when a variable is statistically significant. We will find relations between variables, but we will not be able to find any causation relation without further study. Our results will only approximate the outcome of the Titanic catastrophe and our conclusions will be based in observation and not mathematical study."
   ]
  },
  {
   "cell_type": "code",
   "execution_count": 1,
   "metadata": {
    "collapsed": true
   },
   "outputs": [],
   "source": [
    "# importing the necessary libraries\n",
    "import pandas as pd\n",
    "%matplotlib inline\n",
    "import matplotlib.pyplot as plt\n",
    "import seaborn as sns"
   ]
  },
  {
   "cell_type": "code",
   "execution_count": 2,
   "metadata": {
    "collapsed": false
   },
   "outputs": [
    {
     "name": "stdout",
     "output_type": "stream",
     "text": [
      "891\n",
      "<class 'pandas.core.frame.DataFrame'>\n",
      "RangeIndex: 891 entries, 0 to 890\n",
      "Data columns (total 12 columns):\n",
      "PassengerId    891 non-null int64\n",
      "Survived       891 non-null int64\n",
      "Pclass         891 non-null int64\n",
      "Name           891 non-null object\n",
      "Sex            891 non-null object\n",
      "Age            714 non-null float64\n",
      "SibSp          891 non-null int64\n",
      "Parch          891 non-null int64\n",
      "Ticket         891 non-null object\n",
      "Fare           891 non-null float64\n",
      "Cabin          204 non-null object\n",
      "Embarked       889 non-null object\n",
      "dtypes: float64(2), int64(5), object(5)\n",
      "memory usage: 83.6+ KB\n"
     ]
    }
   ],
   "source": [
    "# reading data and checking the completeness of the dataset\n",
    "df = pd.read_csv(\"titanic-data.csv\")\n",
    "print len(df)\n",
    "df.info()"
   ]
  },
  {
   "cell_type": "code",
   "execution_count": 3,
   "metadata": {
    "collapsed": false
   },
   "outputs": [
    {
     "data": {
      "text/html": [
       "<div>\n",
       "<table border=\"1\" class=\"dataframe\">\n",
       "  <thead>\n",
       "    <tr style=\"text-align: right;\">\n",
       "      <th></th>\n",
       "      <th>PassengerId</th>\n",
       "      <th>Survived</th>\n",
       "      <th>Pclass</th>\n",
       "      <th>Name</th>\n",
       "      <th>Sex</th>\n",
       "      <th>Age</th>\n",
       "      <th>SibSp</th>\n",
       "      <th>Parch</th>\n",
       "      <th>Ticket</th>\n",
       "      <th>Fare</th>\n",
       "      <th>Cabin</th>\n",
       "      <th>Embarked</th>\n",
       "    </tr>\n",
       "  </thead>\n",
       "  <tbody>\n",
       "    <tr>\n",
       "      <th>0</th>\n",
       "      <td>1</td>\n",
       "      <td>0</td>\n",
       "      <td>3</td>\n",
       "      <td>Braund, Mr. Owen Harris</td>\n",
       "      <td>male</td>\n",
       "      <td>22.0</td>\n",
       "      <td>1</td>\n",
       "      <td>0</td>\n",
       "      <td>A/5 21171</td>\n",
       "      <td>7.2500</td>\n",
       "      <td>NaN</td>\n",
       "      <td>S</td>\n",
       "    </tr>\n",
       "    <tr>\n",
       "      <th>1</th>\n",
       "      <td>2</td>\n",
       "      <td>1</td>\n",
       "      <td>1</td>\n",
       "      <td>Cumings, Mrs. John Bradley (Florence Briggs Th...</td>\n",
       "      <td>female</td>\n",
       "      <td>38.0</td>\n",
       "      <td>1</td>\n",
       "      <td>0</td>\n",
       "      <td>PC 17599</td>\n",
       "      <td>71.2833</td>\n",
       "      <td>C85</td>\n",
       "      <td>C</td>\n",
       "    </tr>\n",
       "  </tbody>\n",
       "</table>\n",
       "</div>"
      ],
      "text/plain": [
       "   PassengerId  Survived  Pclass  \\\n",
       "0            1         0       3   \n",
       "1            2         1       1   \n",
       "\n",
       "                                                Name     Sex   Age  SibSp  \\\n",
       "0                            Braund, Mr. Owen Harris    male  22.0      1   \n",
       "1  Cumings, Mrs. John Bradley (Florence Briggs Th...  female  38.0      1   \n",
       "\n",
       "   Parch     Ticket     Fare Cabin Embarked  \n",
       "0      0  A/5 21171   7.2500   NaN        S  \n",
       "1      0   PC 17599  71.2833   C85        C  "
      ]
     },
     "execution_count": 3,
     "metadata": {},
     "output_type": "execute_result"
    }
   ],
   "source": [
    "# Taking a look at our data\n",
    "df.head(2)"
   ]
  },
  {
   "cell_type": "code",
   "execution_count": 4,
   "metadata": {
    "collapsed": false
   },
   "outputs": [
    {
     "name": "stdout",
     "output_type": "stream",
     "text": [
      "% of uncomplete age in the sample: 0.198653198653\n",
      "% of the population in the sample: 0.400629496403\n",
      "% of the population complete registries: 0.321043165468\n"
     ]
    }
   ],
   "source": [
    "print \"% of uncomplete age in the sample:\", 177/891.0\n",
    "print \"% of the population in the sample:\",891/ 2224.0\n",
    "print \"% of the population complete registries:\",714.0 / 2224"
   ]
  },
  {
   "cell_type": "code",
   "execution_count": 5,
   "metadata": {
    "collapsed": false
   },
   "outputs": [
    {
     "data": {
      "text/html": [
       "<div>\n",
       "<table border=\"1\" class=\"dataframe\">\n",
       "  <thead>\n",
       "    <tr style=\"text-align: right;\">\n",
       "      <th></th>\n",
       "      <th>PassengerId</th>\n",
       "      <th>Survived</th>\n",
       "      <th>Pclass</th>\n",
       "      <th>Name</th>\n",
       "      <th>Age</th>\n",
       "      <th>SibSp</th>\n",
       "      <th>Parch</th>\n",
       "      <th>Ticket</th>\n",
       "      <th>Fare</th>\n",
       "      <th>Cabin</th>\n",
       "      <th>Embarked</th>\n",
       "    </tr>\n",
       "    <tr>\n",
       "      <th>Sex</th>\n",
       "      <th></th>\n",
       "      <th></th>\n",
       "      <th></th>\n",
       "      <th></th>\n",
       "      <th></th>\n",
       "      <th></th>\n",
       "      <th></th>\n",
       "      <th></th>\n",
       "      <th></th>\n",
       "      <th></th>\n",
       "      <th></th>\n",
       "    </tr>\n",
       "  </thead>\n",
       "  <tbody>\n",
       "    <tr>\n",
       "      <th>female</th>\n",
       "      <td>53</td>\n",
       "      <td>53</td>\n",
       "      <td>53</td>\n",
       "      <td>53</td>\n",
       "      <td>0</td>\n",
       "      <td>53</td>\n",
       "      <td>53</td>\n",
       "      <td>53</td>\n",
       "      <td>53</td>\n",
       "      <td>7</td>\n",
       "      <td>53</td>\n",
       "    </tr>\n",
       "    <tr>\n",
       "      <th>male</th>\n",
       "      <td>124</td>\n",
       "      <td>124</td>\n",
       "      <td>124</td>\n",
       "      <td>124</td>\n",
       "      <td>0</td>\n",
       "      <td>124</td>\n",
       "      <td>124</td>\n",
       "      <td>124</td>\n",
       "      <td>124</td>\n",
       "      <td>12</td>\n",
       "      <td>124</td>\n",
       "    </tr>\n",
       "  </tbody>\n",
       "</table>\n",
       "</div>"
      ],
      "text/plain": [
       "        PassengerId  Survived  Pclass  Name  Age  SibSp  Parch  Ticket  Fare  \\\n",
       "Sex                                                                            \n",
       "female           53        53      53    53    0     53     53      53    53   \n",
       "male            124       124     124   124    0    124    124     124   124   \n",
       "\n",
       "        Cabin  Embarked  \n",
       "Sex                      \n",
       "female      7        53  \n",
       "male       12       124  "
      ]
     },
     "execution_count": 5,
     "metadata": {},
     "output_type": "execute_result"
    }
   ],
   "source": [
    "df[df['Age'].isnull()].groupby('Sex').count()"
   ]
  },
  {
   "cell_type": "code",
   "execution_count": 6,
   "metadata": {
    "collapsed": false
   },
   "outputs": [
    {
     "data": {
      "text/html": [
       "<div>\n",
       "<table border=\"1\" class=\"dataframe\">\n",
       "  <thead>\n",
       "    <tr style=\"text-align: right;\">\n",
       "      <th></th>\n",
       "      <th>PassengerId</th>\n",
       "      <th>Pclass</th>\n",
       "      <th>Name</th>\n",
       "      <th>Sex</th>\n",
       "      <th>Age</th>\n",
       "      <th>SibSp</th>\n",
       "      <th>Parch</th>\n",
       "      <th>Ticket</th>\n",
       "      <th>Fare</th>\n",
       "      <th>Cabin</th>\n",
       "      <th>Embarked</th>\n",
       "    </tr>\n",
       "    <tr>\n",
       "      <th>Survived</th>\n",
       "      <th></th>\n",
       "      <th></th>\n",
       "      <th></th>\n",
       "      <th></th>\n",
       "      <th></th>\n",
       "      <th></th>\n",
       "      <th></th>\n",
       "      <th></th>\n",
       "      <th></th>\n",
       "      <th></th>\n",
       "      <th></th>\n",
       "    </tr>\n",
       "  </thead>\n",
       "  <tbody>\n",
       "    <tr>\n",
       "      <th>0</th>\n",
       "      <td>125</td>\n",
       "      <td>125</td>\n",
       "      <td>125</td>\n",
       "      <td>125</td>\n",
       "      <td>0</td>\n",
       "      <td>125</td>\n",
       "      <td>125</td>\n",
       "      <td>125</td>\n",
       "      <td>125</td>\n",
       "      <td>8</td>\n",
       "      <td>125</td>\n",
       "    </tr>\n",
       "    <tr>\n",
       "      <th>1</th>\n",
       "      <td>52</td>\n",
       "      <td>52</td>\n",
       "      <td>52</td>\n",
       "      <td>52</td>\n",
       "      <td>0</td>\n",
       "      <td>52</td>\n",
       "      <td>52</td>\n",
       "      <td>52</td>\n",
       "      <td>52</td>\n",
       "      <td>11</td>\n",
       "      <td>52</td>\n",
       "    </tr>\n",
       "  </tbody>\n",
       "</table>\n",
       "</div>"
      ],
      "text/plain": [
       "          PassengerId  Pclass  Name  Sex  Age  SibSp  Parch  Ticket  Fare  \\\n",
       "Survived                                                                    \n",
       "0                 125     125   125  125    0    125    125     125   125   \n",
       "1                  52      52    52   52    0     52     52      52    52   \n",
       "\n",
       "          Cabin  Embarked  \n",
       "Survived                   \n",
       "0             8       125  \n",
       "1            11        52  "
      ]
     },
     "execution_count": 6,
     "metadata": {},
     "output_type": "execute_result"
    }
   ],
   "source": [
    "df[df['Age'].isnull()].groupby('Survived').count()"
   ]
  },
  {
   "cell_type": "code",
   "execution_count": 7,
   "metadata": {
    "collapsed": false
   },
   "outputs": [
    {
     "data": {
      "text/html": [
       "<div>\n",
       "<table border=\"1\" class=\"dataframe\">\n",
       "  <thead>\n",
       "    <tr style=\"text-align: right;\">\n",
       "      <th></th>\n",
       "      <th>PassengerId</th>\n",
       "      <th>Survived</th>\n",
       "      <th>Name</th>\n",
       "      <th>Sex</th>\n",
       "      <th>Age</th>\n",
       "      <th>SibSp</th>\n",
       "      <th>Parch</th>\n",
       "      <th>Ticket</th>\n",
       "      <th>Fare</th>\n",
       "      <th>Cabin</th>\n",
       "      <th>Embarked</th>\n",
       "    </tr>\n",
       "    <tr>\n",
       "      <th>Pclass</th>\n",
       "      <th></th>\n",
       "      <th></th>\n",
       "      <th></th>\n",
       "      <th></th>\n",
       "      <th></th>\n",
       "      <th></th>\n",
       "      <th></th>\n",
       "      <th></th>\n",
       "      <th></th>\n",
       "      <th></th>\n",
       "      <th></th>\n",
       "    </tr>\n",
       "  </thead>\n",
       "  <tbody>\n",
       "    <tr>\n",
       "      <th>1</th>\n",
       "      <td>30</td>\n",
       "      <td>30</td>\n",
       "      <td>30</td>\n",
       "      <td>30</td>\n",
       "      <td>0</td>\n",
       "      <td>30</td>\n",
       "      <td>30</td>\n",
       "      <td>30</td>\n",
       "      <td>30</td>\n",
       "      <td>16</td>\n",
       "      <td>30</td>\n",
       "    </tr>\n",
       "    <tr>\n",
       "      <th>2</th>\n",
       "      <td>11</td>\n",
       "      <td>11</td>\n",
       "      <td>11</td>\n",
       "      <td>11</td>\n",
       "      <td>0</td>\n",
       "      <td>11</td>\n",
       "      <td>11</td>\n",
       "      <td>11</td>\n",
       "      <td>11</td>\n",
       "      <td>1</td>\n",
       "      <td>11</td>\n",
       "    </tr>\n",
       "    <tr>\n",
       "      <th>3</th>\n",
       "      <td>136</td>\n",
       "      <td>136</td>\n",
       "      <td>136</td>\n",
       "      <td>136</td>\n",
       "      <td>0</td>\n",
       "      <td>136</td>\n",
       "      <td>136</td>\n",
       "      <td>136</td>\n",
       "      <td>136</td>\n",
       "      <td>2</td>\n",
       "      <td>136</td>\n",
       "    </tr>\n",
       "  </tbody>\n",
       "</table>\n",
       "</div>"
      ],
      "text/plain": [
       "        PassengerId  Survived  Name  Sex  Age  SibSp  Parch  Ticket  Fare  \\\n",
       "Pclass                                                                      \n",
       "1                30        30    30   30    0     30     30      30    30   \n",
       "2                11        11    11   11    0     11     11      11    11   \n",
       "3               136       136   136  136    0    136    136     136   136   \n",
       "\n",
       "        Cabin  Embarked  \n",
       "Pclass                   \n",
       "1          16        30  \n",
       "2           1        11  \n",
       "3           2       136  "
      ]
     },
     "execution_count": 7,
     "metadata": {},
     "output_type": "execute_result"
    }
   ],
   "source": [
    "df[df['Age'].isnull()].groupby(['Pclass']).count()"
   ]
  },
  {
   "cell_type": "markdown",
   "metadata": {},
   "source": [
    "#### 1.3 Data preparation\n",
    "We delete the colums we are not going to use in the study, in a small dataset like this, removing unused columns is just a matter of cleanliness, and readiness, but in big datasets performance could be improved if we delete the parts we are not going to use."
   ]
  },
  {
   "cell_type": "code",
   "execution_count": 8,
   "metadata": {
    "collapsed": true
   },
   "outputs": [],
   "source": [
    "# DELETING THE COLUMNS WE ARE GOING TO IGNORE\n",
    "df.drop('SibSp', axis=1, inplace=True)\n",
    "df.drop('Parch', axis=1, inplace=True)\n",
    "df.drop('Ticket', axis=1, inplace=True)\n",
    "df.drop('Fare', axis=1, inplace=True)\n",
    "df.drop('Cabin', axis=1, inplace=True)\n",
    "df.drop('Name', axis=1, inplace=True)"
   ]
  },
  {
   "cell_type": "code",
   "execution_count": 9,
   "metadata": {
    "collapsed": false
   },
   "outputs": [],
   "source": [
    "# FILLING THE EMBARKED BLANKS FOR NOT DROPING THE REGISTRIES\n",
    "df.loc[df['Embarked'].isnull(),'Embarked'] = 'Unknown'"
   ]
  },
  {
   "cell_type": "code",
   "execution_count": 10,
   "metadata": {
    "collapsed": false
   },
   "outputs": [
    {
     "name": "stdout",
     "output_type": "stream",
     "text": [
      "714\n"
     ]
    }
   ],
   "source": [
    "# CREATING NEW COLUMNS FOR FACILITATE OUR STUDY\n",
    "df['male'] = df[\"Sex\"] == \"male\"\n",
    "df['female'] = df[\"Sex\"] == \"female\"\n",
    "df['first'] = df[\"Pclass\"] == 1\n",
    "df['second'] = df[\"Pclass\"] == 2\n",
    "df['third'] = df[\"Pclass\"] == 3\n",
    "df['survivor'] = df[\"Survived\"] == 1\n",
    "df['deceased'] = df[\"Survived\"] == 0\n",
    "df['Cherbourg'] = df[\"Embarked\"] == \"C\"\n",
    "df['Queenstown'] = df[\"Embarked\"] == \"Q\"\n",
    "df['Southampton'] = df[\"Embarked\"] == \"S\"\n",
    "\n",
    "# DELETING THE lines that contain a NaN \n",
    "df.dropna(inplace=True)\n",
    "print len(df)"
   ]
  },
  {
   "cell_type": "code",
   "execution_count": 11,
   "metadata": {
    "collapsed": false
   },
   "outputs": [
    {
     "data": {
      "text/html": [
       "<div>\n",
       "<table border=\"1\" class=\"dataframe\">\n",
       "  <thead>\n",
       "    <tr style=\"text-align: right;\">\n",
       "      <th></th>\n",
       "      <th>PassengerId</th>\n",
       "      <th>Survived</th>\n",
       "      <th>Pclass</th>\n",
       "      <th>Sex</th>\n",
       "      <th>Age</th>\n",
       "      <th>Embarked</th>\n",
       "      <th>male</th>\n",
       "      <th>female</th>\n",
       "      <th>first</th>\n",
       "      <th>second</th>\n",
       "      <th>third</th>\n",
       "      <th>survivor</th>\n",
       "      <th>deceased</th>\n",
       "      <th>Cherbourg</th>\n",
       "      <th>Queenstown</th>\n",
       "      <th>Southampton</th>\n",
       "    </tr>\n",
       "  </thead>\n",
       "  <tbody>\n",
       "    <tr>\n",
       "      <th>0</th>\n",
       "      <td>1</td>\n",
       "      <td>0</td>\n",
       "      <td>3</td>\n",
       "      <td>male</td>\n",
       "      <td>22.0</td>\n",
       "      <td>S</td>\n",
       "      <td>True</td>\n",
       "      <td>False</td>\n",
       "      <td>False</td>\n",
       "      <td>False</td>\n",
       "      <td>True</td>\n",
       "      <td>False</td>\n",
       "      <td>True</td>\n",
       "      <td>False</td>\n",
       "      <td>False</td>\n",
       "      <td>True</td>\n",
       "    </tr>\n",
       "  </tbody>\n",
       "</table>\n",
       "</div>"
      ],
      "text/plain": [
       "   PassengerId  Survived  Pclass   Sex   Age Embarked  male female  first  \\\n",
       "0            1         0       3  male  22.0        S  True  False  False   \n",
       "\n",
       "  second third survivor deceased Cherbourg Queenstown Southampton  \n",
       "0  False  True    False     True     False      False        True  "
      ]
     },
     "execution_count": 11,
     "metadata": {},
     "output_type": "execute_result"
    }
   ],
   "source": [
    "df.head(1)"
   ]
  },
  {
   "cell_type": "markdown",
   "metadata": {},
   "source": [
    "### 2. Exploration\n",
    "#### 2.1 How much did the *passenger class* affect to the survival possibilities of a passenger?\n",
    "\n",
    "First, we make a graph to get a general idea of the proportion of survivors per passenger class. Within the sample we have, we can see that clearly the 3rd class has the lowest survival possibilities of the three classes. Which could be explained by the fact that 3rd class passengers probably travelled in more crowded conditions at lower levels of the ship, where escaping could have been more difficult than in others areas of the ship.\n",
    "\n",
    "Then we make the numerical calculations to get the percentages, and as we can see, the highest survival percentage in this sample is shown in first class with the 66%, while the lowest is for third class with only the 24%, an increment of 40 percentage units between first and third class.\n",
    "\n",
    "|Pclass|survivor|deceased|% survival|\n",
    "|------|--------|--------|----------|\n",
    "|1     |122.0\t|64.0\t |65.59     |\n",
    "|2\t   |83.0\t|90.0\t |47.98     |\n",
    "|3\t   |85.0\t|270.0\t |23.94     |\n",
    "<center>Survival by passenger class</center>\n"
   ]
  },
  {
   "cell_type": "code",
   "execution_count": 12,
   "metadata": {
    "collapsed": false
   },
   "outputs": [
    {
     "data": {
      "text/html": [
       "<div>\n",
       "<table border=\"1\" class=\"dataframe\">\n",
       "  <thead>\n",
       "    <tr style=\"text-align: right;\">\n",
       "      <th></th>\n",
       "      <th>PassengerId</th>\n",
       "      <th>Pclass</th>\n",
       "      <th>Sex</th>\n",
       "      <th>Age</th>\n",
       "      <th>Embarked</th>\n",
       "      <th>male</th>\n",
       "      <th>female</th>\n",
       "      <th>first</th>\n",
       "      <th>second</th>\n",
       "      <th>third</th>\n",
       "      <th>survivor</th>\n",
       "      <th>deceased</th>\n",
       "      <th>Cherbourg</th>\n",
       "      <th>Queenstown</th>\n",
       "      <th>Southampton</th>\n",
       "    </tr>\n",
       "    <tr>\n",
       "      <th>Survived</th>\n",
       "      <th></th>\n",
       "      <th></th>\n",
       "      <th></th>\n",
       "      <th></th>\n",
       "      <th></th>\n",
       "      <th></th>\n",
       "      <th></th>\n",
       "      <th></th>\n",
       "      <th></th>\n",
       "      <th></th>\n",
       "      <th></th>\n",
       "      <th></th>\n",
       "      <th></th>\n",
       "      <th></th>\n",
       "      <th></th>\n",
       "    </tr>\n",
       "  </thead>\n",
       "  <tbody>\n",
       "    <tr>\n",
       "      <th>0</th>\n",
       "      <td>424</td>\n",
       "      <td>424</td>\n",
       "      <td>424</td>\n",
       "      <td>424</td>\n",
       "      <td>424</td>\n",
       "      <td>424</td>\n",
       "      <td>424</td>\n",
       "      <td>424</td>\n",
       "      <td>424</td>\n",
       "      <td>424</td>\n",
       "      <td>424</td>\n",
       "      <td>424</td>\n",
       "      <td>424</td>\n",
       "      <td>424</td>\n",
       "      <td>424</td>\n",
       "    </tr>\n",
       "    <tr>\n",
       "      <th>1</th>\n",
       "      <td>290</td>\n",
       "      <td>290</td>\n",
       "      <td>290</td>\n",
       "      <td>290</td>\n",
       "      <td>290</td>\n",
       "      <td>290</td>\n",
       "      <td>290</td>\n",
       "      <td>290</td>\n",
       "      <td>290</td>\n",
       "      <td>290</td>\n",
       "      <td>290</td>\n",
       "      <td>290</td>\n",
       "      <td>290</td>\n",
       "      <td>290</td>\n",
       "      <td>290</td>\n",
       "    </tr>\n",
       "  </tbody>\n",
       "</table>\n",
       "</div>"
      ],
      "text/plain": [
       "          PassengerId  Pclass  Sex  Age  Embarked  male  female  first  \\\n",
       "Survived                                                                 \n",
       "0                 424     424  424  424       424   424     424    424   \n",
       "1                 290     290  290  290       290   290     290    290   \n",
       "\n",
       "          second  third  survivor  deceased  Cherbourg  Queenstown  \\\n",
       "Survived                                                             \n",
       "0            424    424       424       424        424         424   \n",
       "1            290    290       290       290        290         290   \n",
       "\n",
       "          Southampton  \n",
       "Survived               \n",
       "0                 424  \n",
       "1                 290  "
      ]
     },
     "execution_count": 12,
     "metadata": {},
     "output_type": "execute_result"
    }
   ],
   "source": [
    "df.groupby('Survived').count()"
   ]
  },
  {
   "cell_type": "code",
   "execution_count": 13,
   "metadata": {
    "collapsed": false
   },
   "outputs": [
    {
     "data": {
      "image/png": "[encoded data removed]",
      "text/plain": [
       "<matplotlib.figure.Figure at 0x107a3ad90>"
      ]
     },
     "metadata": {},
     "output_type": "display_data"
    }
   ],
   "source": [
    "axes = df.groupby(\"Pclass\").sum().plot.bar(y=[\"survivor\",\"deceased\"],stacked=True, title=\"Survivor and deceased passengers per class\")\n",
    "for p in axes.patches[0:3]:\n",
    "    axes.text(p.get_x() + p.get_width()/2, # x positions\n",
    "            p.get_height()-30,             # y position\n",
    "            int(p.get_height()),           # label text\n",
    "            ha='center', va='bottom', color='white', fontsize=9) # fontdict with font alignment and properties\n",
    "\n",
    "for p in axes.patches[3:]:\n",
    "    lower_i = axes.patches.index(p)\n",
    "    lower_h = axes.patches[lower_i-3].get_height()\n",
    "    axes.text(p.get_x() + p.get_width()/2, # x positions\n",
    "            p.get_height()+lower_h-30,             # y position\n",
    "            int(p.get_height()),           # label text\n",
    "            ha='center', va='bottom', color='white', fontsize=9) # fontdict with font alignment and properties"
   ]
  },
  {
   "cell_type": "code",
   "execution_count": 14,
   "metadata": {
    "collapsed": false
   },
   "outputs": [
    {
     "data": {
      "text/html": [
       "<div>\n",
       "<table border=\"1\" class=\"dataframe\">\n",
       "  <thead>\n",
       "    <tr style=\"text-align: right;\">\n",
       "      <th></th>\n",
       "      <th>deceased</th>\n",
       "      <th>survivor</th>\n",
       "      <th>% survival</th>\n",
       "    </tr>\n",
       "    <tr>\n",
       "      <th>Pclass</th>\n",
       "      <th></th>\n",
       "      <th></th>\n",
       "      <th></th>\n",
       "    </tr>\n",
       "  </thead>\n",
       "  <tbody>\n",
       "    <tr>\n",
       "      <th>1</th>\n",
       "      <td>64</td>\n",
       "      <td>122</td>\n",
       "      <td>65.591398</td>\n",
       "    </tr>\n",
       "    <tr>\n",
       "      <th>2</th>\n",
       "      <td>90</td>\n",
       "      <td>83</td>\n",
       "      <td>47.976879</td>\n",
       "    </tr>\n",
       "    <tr>\n",
       "      <th>3</th>\n",
       "      <td>270</td>\n",
       "      <td>85</td>\n",
       "      <td>23.943662</td>\n",
       "    </tr>\n",
       "  </tbody>\n",
       "</table>\n",
       "</div>"
      ],
      "text/plain": [
       "        deceased  survivor  % survival\n",
       "Pclass                                \n",
       "1             64       122   65.591398\n",
       "2             90        83   47.976879\n",
       "3            270        85   23.943662"
      ]
     },
     "execution_count": 14,
     "metadata": {},
     "output_type": "execute_result"
    }
   ],
   "source": [
    "df.groupby('Pclass')['Survived'].agg({'survivor': sum,\n",
    "                                      'deceased': lambda x:(x==0).sum(),\n",
    "                                     '% survival': lambda x:x.mean()*100})"
   ]
  },
  {
   "cell_type": "markdown",
   "metadata": {},
   "source": [
    "#### 2.2 How did the age affect to the survival possibilities?\n",
    "First, we make a graph to get a general idea of the proportion of survivors per age. Within the sample we have, there is a big amount of deceased people between 20 and 30 years old, but this group is also the largest one in our sample, so we need to have a look at the numbers.\n",
    "\n",
    "We splitted the passenger sample in three groups, under 20, between 20 and 30 and over 30. The group between 20 and 30 has the smallest probability of survival, only a 36%, but there is not such a big difference with the other two groups. So in the sample we have the age was not an important factor regarding the probabilities of survival.\n",
    "\n",
    "|                  | %     |\n",
    "|------------------|-------|\n",
    "|survivors 20 - 30 |  36.21|\n",
    "|survivors under 20|  38.88|\n",
    "|survivors over 30 |  40.92|\n",
    "<center>Survival by age range</center>"
   ]
  },
  {
   "cell_type": "code",
   "execution_count": 15,
   "metadata": {
    "collapsed": false
   },
   "outputs": [
    {
     "name": "stdout",
     "output_type": "stream",
     "text": [
      "   Survived   Age  survivor  deceased\n",
      "0         0  22.0       NaN      22.0\n",
      "1         1  38.0      38.0       NaN\n"
     ]
    }
   ],
   "source": [
    "ages = df[['Survived','Age']].copy()\n",
    "ages['survivor'] = df.loc[df['Survived'] == 1,'Age']\n",
    "ages['deceased'] = df.loc[df['Survived'] == 0,'Age']\n",
    "print ages.head(2)"
   ]
  },
  {
   "cell_type": "code",
   "execution_count": 16,
   "metadata": {
    "collapsed": false
   },
   "outputs": [
    {
     "name": "stdout",
     "output_type": "stream",
     "text": [
      "60\n"
     ]
    },
    {
     "data": {
      "image/png": "[encoded data removed]",
      "text/plain": [
       "<matplotlib.figure.Figure at 0x10388c890>"
      ]
     },
     "metadata": {},
     "output_type": "display_data"
    }
   ],
   "source": [
    "axes = ages[['survivor','deceased']].plot.hist(stacked=True, bins=30, title=\"Survivor and deceased passengers by age\")\n",
    "print len(axes.patches)\n",
    "for p in axes.patches[0:30]:\n",
    "    axes.text(p.get_x() + p.get_width()/2, # x positions\n",
    "            p.get_height()-3,             # y position\n",
    "            int(p.get_height()),           # label text\n",
    "            ha='center', va='bottom', color='white', fontsize=8) # fontdict with font alignment and properties\n",
    "for p in axes.patches[30:]:\n",
    "    lower_i = axes.patches.index(p)\n",
    "    lower_h = axes.patches[lower_i-30].get_height()\n",
    "    axes.text(p.get_x() + p.get_width()/2, # x positions\n",
    "            p.get_height()+lower_h-3,             # y position\n",
    "            int(p.get_height()),           # label text\n",
    "            ha='center', va='bottom', color='black', fontsize=8) # fontdict with font alignment and properties"
   ]
  },
  {
   "cell_type": "code",
   "execution_count": 17,
   "metadata": {
    "collapsed": false
   },
   "outputs": [
    {
     "name": "stdout",
     "output_type": "stream",
     "text": [
      "survivors 20 - 30:  36.2068965517\n",
      "survivors under 20:  38.8785046729\n",
      "survivors over 30:  40.9240924092\n"
     ]
    }
   ],
   "source": [
    "pass_20_30 = df[(df['Age'] > 20) & (df['Age'] < 31)]\n",
    "print \"survivors 20 - 30: \",(pass_20_30['Survived'].sum())*100.0/len(pass_20_30)\n",
    "pass_20 = df[(df['Age'] > 20)]\n",
    "print \"survivors under 20: \",(pass_20['Survived'].sum())*100.0/len(pass_20)\n",
    "pass_30 = df[(df['Age'] >= 31)]\n",
    "print \"survivors over 30: \",(pass_30['Survived'].sum())*100.0/len(pass_30)"
   ]
  },
  {
   "cell_type": "markdown",
   "metadata": {},
   "source": [
    "#### 2.3. How did the *gender* affect to the survival possibilities?\n",
    "First, we make a graph to get a general idea of the proportion of survivors per sex. Within the sample we have, we can see clearly that women survived proportionally much more than men.\n",
    "\n",
    "If we look at the numbers we can see that a 75% of females survived while only a 21% of males survived, more than 50 percentage units of difference.\n",
    "\n",
    "|Sex   |survivor|deceased|% survival|\n",
    "|------|--------|--------|----------|\t\n",
    "|female|197  \t|64\t     |75.48     |\n",
    "|male  |93\t    |360\t |20.53     |\n",
    "<center>Survival by gender</center>\n",
    "\n",
    "This situation could be related with the fact that we know now that the Titanic didn't carry lifeboats for all the passengers and it is possible that they were filled mostly with women and children according to the unofficial code of [\"women and children first\"](https://en.wikipedia.org/wiki/Women_and_children_first) for maritime disasters. This theory is supported by [Elinder & Erixson's](http://www.pnas.org/content/109/33/13220.abstract) 2012 study in which they also explain that only a 20% of all the males survived. This percentage matches with the one of our sample."
   ]
  },
  {
   "cell_type": "code",
   "execution_count": 18,
   "metadata": {
    "collapsed": false
   },
   "outputs": [
    {
     "data": {
      "image/png": "[encoded data removed]",
      "text/plain": [
       "<matplotlib.figure.Figure at 0x107fbaf10>"
      ]
     },
     "metadata": {},
     "output_type": "display_data"
    }
   ],
   "source": [
    "axes = df.groupby(\"Sex\").sum().plot.bar(y=[\"survivor\",\"deceased\"],stacked=True, title=\"Survivor and deceased passengers by gender\")\n",
    "for p in axes.patches[0:2]:\n",
    "    axes.text(p.get_x() + p.get_width()/2, # x positions\n",
    "            p.get_height()-30,             # y position\n",
    "            int(p.get_height()),           # label text\n",
    "            ha='center', va='bottom', color='white', fontsize=9) # fontdict with font alignment and properties\n",
    "\n",
    "for p in axes.patches[2:]:\n",
    "    lower_i = axes.patches.index(p)\n",
    "    lower_h = axes.patches[lower_i-2].get_height()\n",
    "    axes.text(p.get_x() + p.get_width()/2, # x positions\n",
    "            p.get_height()+lower_h-30,             # y position\n",
    "            int(p.get_height()),           # label text\n",
    "            ha='center', va='bottom', color='white', fontsize=9) # fontdict with font alignment and properties"
   ]
  },
  {
   "cell_type": "code",
   "execution_count": 19,
   "metadata": {
    "collapsed": false
   },
   "outputs": [
    {
     "data": {
      "text/html": [
       "<div>\n",
       "<table border=\"1\" class=\"dataframe\">\n",
       "  <thead>\n",
       "    <tr style=\"text-align: right;\">\n",
       "      <th></th>\n",
       "      <th>deceased</th>\n",
       "      <th>survivor</th>\n",
       "      <th>% survival</th>\n",
       "    </tr>\n",
       "    <tr>\n",
       "      <th>Sex</th>\n",
       "      <th></th>\n",
       "      <th></th>\n",
       "      <th></th>\n",
       "    </tr>\n",
       "  </thead>\n",
       "  <tbody>\n",
       "    <tr>\n",
       "      <th>female</th>\n",
       "      <td>64</td>\n",
       "      <td>197</td>\n",
       "      <td>75.478927</td>\n",
       "    </tr>\n",
       "    <tr>\n",
       "      <th>male</th>\n",
       "      <td>360</td>\n",
       "      <td>93</td>\n",
       "      <td>20.529801</td>\n",
       "    </tr>\n",
       "  </tbody>\n",
       "</table>\n",
       "</div>"
      ],
      "text/plain": [
       "        deceased  survivor  % survival\n",
       "Sex                                   \n",
       "female        64       197   75.478927\n",
       "male         360        93   20.529801"
      ]
     },
     "execution_count": 19,
     "metadata": {},
     "output_type": "execute_result"
    }
   ],
   "source": [
    "df.groupby(\"Sex\")['Survived'].agg({\"survivor\": sum,\n",
    "                                         \"deceased\": lambda x:(x==0).sum(),\n",
    "                                         \"% survival\": lambda x:x.mean()*100})"
   ]
  },
  {
   "cell_type": "markdown",
   "metadata": {},
   "source": [
    "#### 2.4. Where females proportionally younger or older than males? How *age* and *gender* affected together to the survival possibilities?\n",
    "\n",
    "First we study the tendency and variability of the ages of males and females. \n",
    "\n",
    "|     |mean |median|std  |\n",
    "|-----|-----|------|-----|\n",
    "|WOMEN|27.91| 27.0 |14.11|\n",
    "|MEN  |30.73| 29.0 |14.68|\n",
    "<center>Study of passengers ages</center>\n",
    "\n",
    "In both cases the distribution of ages look very similar which means between 27 and 31 and very similar standard deviations. We also represent the distribution of ages graphically with a boxplot and a histogram. Attending to these results we cannot say that female and male survival differences was affected by its age, being both age distributions very similar for males and females. \n",
    "\n",
    "We also represent the distribution of survivors by gender and age and we can see that in almost all the cases surviving possibilities for men were much lower than for women. \n",
    "\n",
    "Finally we calculate the percentage of survival in the \"critical age\" between 20 and 30 years, and we can see that in that range male survival is even less than for the whole sample (a difference of almost 60 percentage units between male and females):\n",
    "\n",
    "|                        |     %   |\n",
    "|------------------------|---------|\n",
    "|female survivors 20 - 30|  74.39  |\n",
    "|male survivors 20 - 30  |  15.33  |\n",
    "<center>Survival for male and female on the 20-30 age range </center>\n",
    "\n",
    "We can say that being male and between 20 and 30 years old was the worst combination of age and gender regarding  survival possibilities in the Titanic."
   ]
  },
  {
   "cell_type": "code",
   "execution_count": 20,
   "metadata": {
    "collapsed": false
   },
   "outputs": [
    {
     "data": {
      "text/html": [
       "<div>\n",
       "<table border=\"1\" class=\"dataframe\">\n",
       "  <thead>\n",
       "    <tr style=\"text-align: right;\">\n",
       "      <th></th>\n",
       "      <th>Sex</th>\n",
       "      <th>Age</th>\n",
       "      <th>male</th>\n",
       "      <th>female</th>\n",
       "    </tr>\n",
       "  </thead>\n",
       "  <tbody>\n",
       "    <tr>\n",
       "      <th>0</th>\n",
       "      <td>male</td>\n",
       "      <td>22.0</td>\n",
       "      <td>22.0</td>\n",
       "      <td>NaN</td>\n",
       "    </tr>\n",
       "    <tr>\n",
       "      <th>1</th>\n",
       "      <td>female</td>\n",
       "      <td>38.0</td>\n",
       "      <td>NaN</td>\n",
       "      <td>38.0</td>\n",
       "    </tr>\n",
       "  </tbody>\n",
       "</table>\n",
       "</div>"
      ],
      "text/plain": [
       "      Sex   Age  male  female\n",
       "0    male  22.0  22.0     NaN\n",
       "1  female  38.0   NaN    38.0"
      ]
     },
     "execution_count": 20,
     "metadata": {},
     "output_type": "execute_result"
    }
   ],
   "source": [
    "ages_sex = df[['Sex','Age']].copy()\n",
    "ages_sex['male'] = df.loc[df['Sex'] == 'male','Age']\n",
    "ages_sex['female'] = df.loc[df['Sex'] == 'female','Age']\n",
    "ages_sex.head(2)"
   ]
  },
  {
   "cell_type": "code",
   "execution_count": 21,
   "metadata": {
    "collapsed": false
   },
   "outputs": [
    {
     "name": "stdout",
     "output_type": "stream",
     "text": [
      "WOMEN\n",
      "mean: 27.9157088123\n",
      "median: 27.0\n",
      "std: 14.1101464575\n",
      "MEN\n",
      "mean: 30.7266445916\n",
      "median: 29.0\n",
      "std: 14.6782008238\n"
     ]
    }
   ],
   "source": [
    "print \"WOMEN\"\n",
    "print \"mean:\",ages_sex['female'].mean()\n",
    "print \"median:\",ages_sex['female'].median()\n",
    "print \"std:\",ages_sex['female'].std()\n",
    "print \"MEN\"\n",
    "print \"mean:\",ages_sex['male'].mean()\n",
    "print \"median:\",ages_sex['male'].median()\n",
    "print \"std:\",ages_sex['male'].std()"
   ]
  },
  {
   "cell_type": "code",
   "execution_count": 22,
   "metadata": {
    "collapsed": false
   },
   "outputs": [
    {
     "data": {
      "text/plain": [
       "<matplotlib.axes._subplots.AxesSubplot at 0x1083aba50>"
      ]
     },
     "execution_count": 22,
     "metadata": {},
     "output_type": "execute_result"
    },
    {
     "data": {
      "image/png": "[encoded data removed]",
      "text/plain": [
       "<matplotlib.figure.Figure at 0x107f68c10>"
      ]
     },
     "metadata": {},
     "output_type": "display_data"
    }
   ],
   "source": [
    "ages_sex[['male',\"female\"]].boxplot(sym=\".\")\n"
   ]
  },
  {
   "cell_type": "code",
   "execution_count": 23,
   "metadata": {
    "collapsed": false
   },
   "outputs": [
    {
     "data": {
      "image/png": "[encoded data removed]",
      "text/plain": [
       "<matplotlib.figure.Figure at 0x107d7c690>"
      ]
     },
     "metadata": {},
     "output_type": "display_data"
    }
   ],
   "source": [
    "axes = ages_sex[['male','female']].plot.hist(stacked=True, bins=30, color=[\"c\",\"grey\"], title='Passengers age distribution by gender')\n",
    "for p in axes.patches[0:30]:\n",
    "    axes.text(p.get_x() + p.get_width()/2, # x positions\n",
    "            p.get_height()-3,             # y position\n",
    "            int(p.get_height()),           # label text\n",
    "            ha='center', va='bottom', color='black', fontsize=8) # fontdict with font alignment and properties\n",
    "for p in axes.patches[30:]:\n",
    "    lower_i = axes.patches.index(p)\n",
    "    lower_h = axes.patches[lower_i-30].get_height()\n",
    "    axes.text(p.get_x() + p.get_width()/2, # x positions\n",
    "            p.get_height()+lower_h-3,             # y position\n",
    "            int(p.get_height()),           # label text\n",
    "            ha='center', va='bottom', color='white', fontsize=8) # fontdict with font alignment and properties"
   ]
  },
  {
   "cell_type": "code",
   "execution_count": 24,
   "metadata": {
    "collapsed": false
   },
   "outputs": [
    {
     "data": {
      "text/html": [
       "<div>\n",
       "<table border=\"1\" class=\"dataframe\">\n",
       "  <thead>\n",
       "    <tr style=\"text-align: right;\">\n",
       "      <th></th>\n",
       "      <th>Sex</th>\n",
       "      <th>Age</th>\n",
       "      <th>male</th>\n",
       "      <th>female</th>\n",
       "    </tr>\n",
       "  </thead>\n",
       "  <tbody>\n",
       "    <tr>\n",
       "      <th>1</th>\n",
       "      <td>female</td>\n",
       "      <td>38.0</td>\n",
       "      <td>NaN</td>\n",
       "      <td>38.0</td>\n",
       "    </tr>\n",
       "    <tr>\n",
       "      <th>2</th>\n",
       "      <td>female</td>\n",
       "      <td>26.0</td>\n",
       "      <td>NaN</td>\n",
       "      <td>26.0</td>\n",
       "    </tr>\n",
       "  </tbody>\n",
       "</table>\n",
       "</div>"
      ],
      "text/plain": [
       "      Sex   Age  male  female\n",
       "1  female  38.0   NaN    38.0\n",
       "2  female  26.0   NaN    26.0"
      ]
     },
     "execution_count": 24,
     "metadata": {},
     "output_type": "execute_result"
    }
   ],
   "source": [
    "ages_sex_s = df.loc[df['Survived'] == 1,['Sex','Age']].copy()\n",
    "ages_sex_s['male'] = df.loc[df['Sex'] == 'male','Age']\n",
    "ages_sex_s['female'] = df.loc[df['Sex'] == 'female','Age']\n",
    "ages_sex_s.head(2)"
   ]
  },
  {
   "cell_type": "code",
   "execution_count": 25,
   "metadata": {
    "collapsed": false
   },
   "outputs": [
    {
     "data": {
      "image/png": "[encoded data removed]",
      "text/plain": [
       "<matplotlib.figure.Figure at 0x10841b0d0>"
      ]
     },
     "metadata": {},
     "output_type": "display_data"
    }
   ],
   "source": [
    "axes = ages_sex_s[['male','female']].plot.hist(stacked=True, bins=30, color=[\"c\",\"grey\"], title=\"Survivors distribution by gender and age\")\n",
    "for p in axes.patches[0:30]:\n",
    "    axes.text(p.get_x() + p.get_width()/2, # x positions\n",
    "            p.get_height()-2,             # y position\n",
    "            int(p.get_height()),           # label text\n",
    "            ha='center', va='bottom', color='black', fontsize=8) # fontdict with font alignment and properties\n",
    "for p in axes.patches[30:]:\n",
    "    lower_i = axes.patches.index(p)\n",
    "    lower_h = axes.patches[lower_i-30].get_height()\n",
    "    axes.text(p.get_x() + p.get_width()/2, # x positions\n",
    "            p.get_height()+lower_h-2,             # y position\n",
    "            int(p.get_height()),           # label text\n",
    "            ha='center', va='bottom', color='white', fontsize=8) # fontdict with font alignment and properties"
   ]
  },
  {
   "cell_type": "code",
   "execution_count": 26,
   "metadata": {
    "collapsed": false
   },
   "outputs": [
    {
     "name": "stdout",
     "output_type": "stream",
     "text": [
      "female survivors 20 - 30:  74.3902439024\n",
      "male survivors 20 - 30:  15.3333333333\n"
     ]
    }
   ],
   "source": [
    "pass_20_30_f = df[(df['Age'] > 20) & (df['Age'] < 31) & (df['Sex']=='female')]\n",
    "print \"female survivors 20 - 30: \",(pass_20_30_f['Survived'].sum())*100.0/len(pass_20_30_f)\n",
    "pass_20_30_m = df[(df['Age'] > 20) & (df['Age'] < 31)& (df['Sex']=='male')]\n",
    "print \"male survivors 20 - 30: \",(pass_20_30_m['Survived'].sum())*100.0/len(pass_20_30_m)"
   ]
  },
  {
   "cell_type": "markdown",
   "metadata": {},
   "source": [
    "#### 2.5. Where there more females or males in each passenger class? Could both variables, *gender* and *class*, affect differently together than separately to the survival possibilities?\n",
    "We first plot the gender distribution of passengers per class in this sample and we can see that definitely the distribution is not even, a great proportion of males were travelling in third class.\n",
    "\n",
    "We calculate the proportion of survival for both males and females in every class:\n",
    "\t  \n",
    "|Pclass| male |\tfemale|\t% male  |% female | % m surv|% f surv |\n",
    "|------|------|-------|---------|---------|---------|---------|\n",
    "|1\t   |101.0 |\t85.0  |54.30\t|45.70    |39.60\t|96.47    |\n",
    "|2\t   |99.0  |\t74.0  |57.23\t|42.77\t  |15.15\t|91.90    |\n",
    "|3\t   |253.0 | 102.0 |71.27\t|28.73\t  |15.02\t|46.08    |\n",
    "<center>Survival by gender and class</center>\n",
    "\n",
    "\n",
    "If we compare it with the global survival possibilities by gender:\n",
    "\n",
    "\n",
    "|Sex   |survivor|deceased|% survival|\n",
    "|------|--------|--------|----------|\t\n",
    "|female|197  \t|64\t     |75.48     |\n",
    "|male  |93\t    |360\t |20.53     |\n",
    "<center>Survival by gender</center>\n",
    "\n",
    "\n",
    "And the percentages of survival by class:\n",
    "\n",
    "\n",
    "|Pclass|survivor|deceased|% survival|\n",
    "|------|--------|--------|----------|\n",
    "|1     |122.0\t|64.0\t |65.59     |\n",
    "|2\t   |83.0\t|90.0\t |47.98     |\n",
    "|3\t   |85.0\t|270.0\t |23.94     |\n",
    "<center>Survival by passenger class</center>\n",
    "\n",
    "We can see that given the sample we have, the proportion of survivor females (75%) increments in 20 percentage units if the female was traveling in first or second class, but decreases 30 percentage units if she was travelling in third class. Regarding males, travelling in first class increments the proportion of survivors (from 21% to 39%) in almost 20 percentage units, but travelling in second or third class decreases in 5 percentage points the proportion of survivors. For every class, the proportion of females survivors is much higher than male survivors, being the biggest difference in percentage points between females and males in the second class. "
   ]
  },
  {
   "cell_type": "code",
   "execution_count": 27,
   "metadata": {
    "collapsed": false
   },
   "outputs": [
    {
     "data": {
      "image/png": "[encoded data removed]",
      "text/plain": [
       "<matplotlib.figure.Figure at 0x107b39290>"
      ]
     },
     "metadata": {},
     "output_type": "display_data"
    }
   ],
   "source": [
    "axes = df.groupby([\"Pclass\"]).sum().plot.bar(y=[\"male\",\"female\"],stacked=True, title=\"Gender distribution of passengers per class\")\n",
    "for p in axes.patches[0:3]:\n",
    "    axes.text(p.get_x() + p.get_width()/2, # x positions\n",
    "            p.get_height()-30,             # y position\n",
    "            int(p.get_height()),           # label text\n",
    "            ha='center', va='bottom', color='white', fontsize=9) # fontdict with font alignment and properties\n",
    "\n",
    "for p in axes.patches[3:]:\n",
    "    lower_i = axes.patches.index(p)\n",
    "    lower_h = axes.patches[lower_i-3].get_height()\n",
    "    axes.text(p.get_x() + p.get_width()/2, # x positions\n",
    "            p.get_height()+lower_h-30,             # y position\n",
    "            int(p.get_height()),           # label text\n",
    "            ha='center', va='bottom', color='white', fontsize=9) # fontdict with font alignment and properties"
   ]
  },
  {
   "cell_type": "code",
   "execution_count": 28,
   "metadata": {
    "collapsed": false
   },
   "outputs": [
    {
     "data": {
      "text/html": [
       "<div>\n",
       "<table border=\"1\" class=\"dataframe\">\n",
       "  <thead>\n",
       "    <tr style=\"text-align: right;\">\n",
       "      <th></th>\n",
       "      <th>male</th>\n",
       "      <th>female</th>\n",
       "      <th>% male</th>\n",
       "      <th>% female</th>\n",
       "    </tr>\n",
       "    <tr>\n",
       "      <th>Pclass</th>\n",
       "      <th></th>\n",
       "      <th></th>\n",
       "      <th></th>\n",
       "      <th></th>\n",
       "    </tr>\n",
       "  </thead>\n",
       "  <tbody>\n",
       "    <tr>\n",
       "      <th>1</th>\n",
       "      <td>101.0</td>\n",
       "      <td>85.0</td>\n",
       "      <td>54.301075</td>\n",
       "      <td>45.698925</td>\n",
       "    </tr>\n",
       "    <tr>\n",
       "      <th>2</th>\n",
       "      <td>99.0</td>\n",
       "      <td>74.0</td>\n",
       "      <td>57.225434</td>\n",
       "      <td>42.774566</td>\n",
       "    </tr>\n",
       "    <tr>\n",
       "      <th>3</th>\n",
       "      <td>253.0</td>\n",
       "      <td>102.0</td>\n",
       "      <td>71.267606</td>\n",
       "      <td>28.732394</td>\n",
       "    </tr>\n",
       "  </tbody>\n",
       "</table>\n",
       "</div>"
      ],
      "text/plain": [
       "         male  female     % male   % female\n",
       "Pclass                                     \n",
       "1       101.0    85.0  54.301075  45.698925\n",
       "2        99.0    74.0  57.225434  42.774566\n",
       "3       253.0   102.0  71.267606  28.732394"
      ]
     },
     "execution_count": 28,
     "metadata": {},
     "output_type": "execute_result"
    }
   ],
   "source": [
    "sum_class = df.groupby(\"Pclass\").sum().loc[:, [\"male\", \"female\"]]\n",
    "sum_class[\"% male\"] = (sum_class['male']/(sum_class['male']+sum_class['female'])) * 100\n",
    "sum_class[\"% female\"] = (sum_class['female']/(sum_class['male']+sum_class['female'])) * 100\n",
    "sum_class"
   ]
  },
  {
   "cell_type": "code",
   "execution_count": 29,
   "metadata": {
    "collapsed": false
   },
   "outputs": [
    {
     "name": "stdout",
     "output_type": "stream",
     "text": [
      "Pclass  Sex     Survived\n",
      "1       female  0             3\n",
      "                1            82\n",
      "        male    0            61\n",
      "                1            40\n",
      "2       female  0             6\n",
      "                1            68\n",
      "        male    0            84\n",
      "                1            15\n",
      "3       female  0            55\n",
      "                1            47\n",
      "        male    0           215\n",
      "                1            38\n",
      "Name: PassengerId, dtype: int64\n"
     ]
    }
   ],
   "source": [
    "surv_gender_class = df.groupby([\"Pclass\",\"Sex\",\"Survived\"])['PassengerId'].count()\n",
    "print surv_gender_class"
   ]
  },
  {
   "cell_type": "code",
   "execution_count": 30,
   "metadata": {
    "collapsed": false
   },
   "outputs": [
    {
     "data": {
      "text/html": [
       "<div>\n",
       "<table border=\"1\" class=\"dataframe\">\n",
       "  <thead>\n",
       "    <tr style=\"text-align: right;\">\n",
       "      <th></th>\n",
       "      <th>male</th>\n",
       "      <th>female</th>\n",
       "      <th>% male</th>\n",
       "      <th>% female</th>\n",
       "      <th>% m surv</th>\n",
       "      <th>% f surv</th>\n",
       "    </tr>\n",
       "    <tr>\n",
       "      <th>Pclass</th>\n",
       "      <th></th>\n",
       "      <th></th>\n",
       "      <th></th>\n",
       "      <th></th>\n",
       "      <th></th>\n",
       "      <th></th>\n",
       "    </tr>\n",
       "  </thead>\n",
       "  <tbody>\n",
       "    <tr>\n",
       "      <th>1</th>\n",
       "      <td>101.0</td>\n",
       "      <td>85.0</td>\n",
       "      <td>54.301075</td>\n",
       "      <td>45.698925</td>\n",
       "      <td>39.603960</td>\n",
       "      <td>96.470588</td>\n",
       "    </tr>\n",
       "    <tr>\n",
       "      <th>2</th>\n",
       "      <td>99.0</td>\n",
       "      <td>74.0</td>\n",
       "      <td>57.225434</td>\n",
       "      <td>42.774566</td>\n",
       "      <td>15.151515</td>\n",
       "      <td>91.891892</td>\n",
       "    </tr>\n",
       "    <tr>\n",
       "      <th>3</th>\n",
       "      <td>253.0</td>\n",
       "      <td>102.0</td>\n",
       "      <td>71.267606</td>\n",
       "      <td>28.732394</td>\n",
       "      <td>15.019763</td>\n",
       "      <td>46.078431</td>\n",
       "    </tr>\n",
       "  </tbody>\n",
       "</table>\n",
       "</div>"
      ],
      "text/plain": [
       "         male  female     % male   % female   % m surv   % f surv\n",
       "Pclass                                                           \n",
       "1       101.0    85.0  54.301075  45.698925  39.603960  96.470588\n",
       "2        99.0    74.0  57.225434  42.774566  15.151515  91.891892\n",
       "3       253.0   102.0  71.267606  28.732394  15.019763  46.078431"
      ]
     },
     "execution_count": 30,
     "metadata": {},
     "output_type": "execute_result"
    }
   ],
   "source": [
    "fem_0 = (surv_gender_class.loc[\n",
    "        (slice(None),'female',0)]).values\n",
    "fem_1 = (surv_gender_class.loc[\n",
    "        (slice(None),'female',1)]).values\n",
    "mal_0 = (surv_gender_class.loc[\n",
    "        (slice(None),'male',0)]).values\n",
    "mal_1 = (surv_gender_class.loc[\n",
    "        (slice(None),'male',1)]).values\n",
    "\n",
    "sum_class['% m surv'] = mal_1 * 100.0 / (mal_0 + mal_1)\n",
    "sum_class['% f surv'] = fem_1 * 100.0 / (fem_0 + fem_1)\n",
    "sum_class"
   ]
  },
  {
   "cell_type": "markdown",
   "metadata": {},
   "source": [
    "#### 2.6. Is there any relation between the port of embarkment and the survival possibilities?\n",
    "Firt, we make a graph to get a general idea of the proportion of survivors per embarkment port as well as the proportion of each passenger class that embarked on each port. Southampton is by far the port where most people of the current sample embarked. We can see a higher proportion of deceases among passengers who embarked at Southampton and Queenstown comparing to those embarked at Cherbourg, but also that the majority of the Southampton and Queenstown passengers travelled in third class.\n",
    "\n",
    "|Embarked\t|survivor|deceased|\t% survival |\n",
    "|-----------|--------|--------|------------|\t\t\n",
    "|Cherbourg  |79.0\t |51.0\t  |60.77       |\n",
    "|Queenstown\t|8.0\t |20.0\t  |28.57       |\n",
    "|Southampton|201.0\t |353.0\t  |36.28       |\n",
    "|Unknown\t|2.0\t |0.0\t  |100.00      |\n",
    "<center>Survival by embarkment port</center>\n",
    "\n",
    "Only a 29% and a 36% of this sample passengers that embarked at Queenstown and Southampton survived, what could be related to the class they were travelling in. Still, if we study the survival percentage of 3rd class passengers embarked at each of the port we see that Cherbourg has a better survival percentage. The limitations of our study doesn't allow us to draw conclusions out of the embarkment port, these numbers could be due to chance. We would need a further study and know more variables to determine if the port o embarkment really affect to the survival likelihood.\n",
    "\n",
    "|3rd class Embarked\t|survivor|deceased|\t% survival |\n",
    "|-------------------|--------|--------|------------|\t\t\n",
    "|Cherbourg          |18.0\t |23.0\t  |43.90       |\n",
    "|Queenstown\t        |6.0\t |18.0\t  |25.00       |\n",
    "|Southampton        |61.0\t |229.0\t  |21.03       |\n",
    "<center>Survival of 3rd class passengers by embarkment port</center>\n",
    "\n"
   ]
  },
  {
   "cell_type": "code",
   "execution_count": 31,
   "metadata": {
    "collapsed": false
   },
   "outputs": [
    {
     "data": {
      "text/plain": [
       "<matplotlib.axes._subplots.AxesSubplot at 0x108a68710>"
      ]
     },
     "execution_count": 31,
     "metadata": {},
     "output_type": "execute_result"
    },
    {
     "data": {
      "image/png": "[encoded data removed]",
      "text/plain": [
       "<matplotlib.figure.Figure at 0x108172210>"
      ]
     },
     "metadata": {},
     "output_type": "display_data"
    },
    {
     "data": {
      "image/png": "[encoded data removed]",
      "text/plain": [
       "<matplotlib.figure.Figure at 0x1086779d0>"
      ]
     },
     "metadata": {},
     "output_type": "display_data"
    }
   ],
   "source": [
    "df.groupby(\"Embarked\").sum().plot.bar(y=[\"survivor\",\"deceased\"],stacked=True)\n",
    "df.groupby(\"Embarked\").sum().plot.bar(y=[\"first\",\"second\",\"third\"],stacked=True)"
   ]
  },
  {
   "cell_type": "code",
   "execution_count": 32,
   "metadata": {
    "collapsed": false
   },
   "outputs": [
    {
     "data": {
      "text/html": [
       "<div>\n",
       "<table border=\"1\" class=\"dataframe\">\n",
       "  <thead>\n",
       "    <tr style=\"text-align: right;\">\n",
       "      <th></th>\n",
       "      <th>survivor</th>\n",
       "      <th>deceased</th>\n",
       "      <th>% survival</th>\n",
       "    </tr>\n",
       "    <tr>\n",
       "      <th>Embarked</th>\n",
       "      <th></th>\n",
       "      <th></th>\n",
       "      <th></th>\n",
       "    </tr>\n",
       "  </thead>\n",
       "  <tbody>\n",
       "    <tr>\n",
       "      <th>C</th>\n",
       "      <td>79.0</td>\n",
       "      <td>51.0</td>\n",
       "      <td>60.769231</td>\n",
       "    </tr>\n",
       "    <tr>\n",
       "      <th>Q</th>\n",
       "      <td>8.0</td>\n",
       "      <td>20.0</td>\n",
       "      <td>28.571429</td>\n",
       "    </tr>\n",
       "    <tr>\n",
       "      <th>S</th>\n",
       "      <td>201.0</td>\n",
       "      <td>353.0</td>\n",
       "      <td>36.281588</td>\n",
       "    </tr>\n",
       "    <tr>\n",
       "      <th>Unknown</th>\n",
       "      <td>2.0</td>\n",
       "      <td>0.0</td>\n",
       "      <td>100.000000</td>\n",
       "    </tr>\n",
       "  </tbody>\n",
       "</table>\n",
       "</div>"
      ],
      "text/plain": [
       "          survivor  deceased  % survival\n",
       "Embarked                                \n",
       "C             79.0      51.0   60.769231\n",
       "Q              8.0      20.0   28.571429\n",
       "S            201.0     353.0   36.281588\n",
       "Unknown        2.0       0.0  100.000000"
      ]
     },
     "execution_count": 32,
     "metadata": {},
     "output_type": "execute_result"
    }
   ],
   "source": [
    "sum_emb = df.groupby([\"Embarked\"]).sum().loc[:, [\"survivor\", \"deceased\"]]\n",
    "sum_emb[\"% survival\"] = (sum_emb['survivor']/(sum_emb['survivor']+sum_emb['deceased'])) * 100\n",
    "sum_emb"
   ]
  },
  {
   "cell_type": "code",
   "execution_count": 33,
   "metadata": {
    "collapsed": false
   },
   "outputs": [
    {
     "data": {
      "text/html": [
       "<div>\n",
       "<table border=\"1\" class=\"dataframe\">\n",
       "  <thead>\n",
       "    <tr style=\"text-align: right;\">\n",
       "      <th></th>\n",
       "      <th></th>\n",
       "      <th>survivor</th>\n",
       "      <th>deceased</th>\n",
       "      <th>% survival</th>\n",
       "    </tr>\n",
       "    <tr>\n",
       "      <th>Embarked</th>\n",
       "      <th>Pclass</th>\n",
       "      <th></th>\n",
       "      <th></th>\n",
       "      <th></th>\n",
       "    </tr>\n",
       "  </thead>\n",
       "  <tbody>\n",
       "    <tr>\n",
       "      <th rowspan=\"3\" valign=\"top\">C</th>\n",
       "      <th>1</th>\n",
       "      <td>53.0</td>\n",
       "      <td>21.0</td>\n",
       "      <td>71.621622</td>\n",
       "    </tr>\n",
       "    <tr>\n",
       "      <th>2</th>\n",
       "      <td>8.0</td>\n",
       "      <td>7.0</td>\n",
       "      <td>53.333333</td>\n",
       "    </tr>\n",
       "    <tr>\n",
       "      <th>3</th>\n",
       "      <td>18.0</td>\n",
       "      <td>23.0</td>\n",
       "      <td>43.902439</td>\n",
       "    </tr>\n",
       "    <tr>\n",
       "      <th rowspan=\"3\" valign=\"top\">Q</th>\n",
       "      <th>1</th>\n",
       "      <td>1.0</td>\n",
       "      <td>1.0</td>\n",
       "      <td>50.000000</td>\n",
       "    </tr>\n",
       "    <tr>\n",
       "      <th>2</th>\n",
       "      <td>1.0</td>\n",
       "      <td>1.0</td>\n",
       "      <td>50.000000</td>\n",
       "    </tr>\n",
       "    <tr>\n",
       "      <th>3</th>\n",
       "      <td>6.0</td>\n",
       "      <td>18.0</td>\n",
       "      <td>25.000000</td>\n",
       "    </tr>\n",
       "    <tr>\n",
       "      <th rowspan=\"3\" valign=\"top\">S</th>\n",
       "      <th>1</th>\n",
       "      <td>66.0</td>\n",
       "      <td>42.0</td>\n",
       "      <td>61.111111</td>\n",
       "    </tr>\n",
       "    <tr>\n",
       "      <th>2</th>\n",
       "      <td>74.0</td>\n",
       "      <td>82.0</td>\n",
       "      <td>47.435897</td>\n",
       "    </tr>\n",
       "    <tr>\n",
       "      <th>3</th>\n",
       "      <td>61.0</td>\n",
       "      <td>229.0</td>\n",
       "      <td>21.034483</td>\n",
       "    </tr>\n",
       "    <tr>\n",
       "      <th>Unknown</th>\n",
       "      <th>1</th>\n",
       "      <td>2.0</td>\n",
       "      <td>0.0</td>\n",
       "      <td>100.000000</td>\n",
       "    </tr>\n",
       "  </tbody>\n",
       "</table>\n",
       "</div>"
      ],
      "text/plain": [
       "                 survivor  deceased  % survival\n",
       "Embarked Pclass                                \n",
       "C        1           53.0      21.0   71.621622\n",
       "         2            8.0       7.0   53.333333\n",
       "         3           18.0      23.0   43.902439\n",
       "Q        1            1.0       1.0   50.000000\n",
       "         2            1.0       1.0   50.000000\n",
       "         3            6.0      18.0   25.000000\n",
       "S        1           66.0      42.0   61.111111\n",
       "         2           74.0      82.0   47.435897\n",
       "         3           61.0     229.0   21.034483\n",
       "Unknown  1            2.0       0.0  100.000000"
      ]
     },
     "execution_count": 33,
     "metadata": {},
     "output_type": "execute_result"
    }
   ],
   "source": [
    "sum_emb = df.groupby([\"Embarked\",\"Pclass\"]).sum().loc[:, [\"survivor\", \"deceased\"]]\n",
    "sum_emb[\"% survival\"] = (sum_emb['survivor']/(sum_emb['survivor']+sum_emb['deceased'])) * 100\n",
    "sum_emb"
   ]
  },
  {
   "cell_type": "markdown",
   "metadata": {},
   "source": [
    "### 3. Conclusions\n",
    "\n",
    "As we stated in the \"limitations\" chapter our conclusions are based in observation, not in mathematical study, so we cannot assure if the relations we are observing between our variables are due to chance or not. We cannot assure any causation relation between them, we can just observe the numbers and try to find logical explanations and patterns.\n",
    "\n",
    "Attending to the percentages, the gender is the variable that affects alone the most to the survival probabilities (around 55 percentage units of difference) of these sample passengers, but that difference increments when considering both gender and class (80 percentage points between males in third class and females in first class). The age alone doesn't seem to affect the survival capabilities. \n",
    "\n",
    "Our guessed explanation of females surviving more due to the unofficial code of [\"women and children first\"](https://en.wikipedia.org/wiki/Women_and_children_first) for maritime disasters looses strenght if children didn't survived more than adults. We could also discuss what was a \"children\" at that time, since from our graphs we can see that most of the passengers under 10 years old survived but most of the 10 year old children didn't. Definitely, in a catastrophe like this, the amount of variables to take into account make it difficult to make assertions without combining them all.\n",
    "\n",
    "A further study could try to combine more variables (gender, age and class together for example) and also add new ones like the price paid for the ticket, or the fact of having a cabin and a family on board. Also, ages could be analyzed in smaller ranges to deeply study the differences among the groups.\n",
    "\n",
    "Regarding the limitations of working with a small sample, giving that the 2012 study by [Elinder & Erixson's](http://www.pnas.org/content/109/33/13220.abstract) stated that only a 20% of all the males survived. We can say that at least the gender variable of our sample is similar to the one of the whole population.\n",
    "\n",
    "These results match the initial expectations, women and 1st and 2nd class passengers being the ones with more chances to survive, and men between their 20s and 30s the ones with less chances. Still, the high differences in percentage points that we have found were a little bit surprising.\n",
    "\n",
    "|Pclass|survivor|deceased|% survival|\n",
    "|------|--------|--------|----------|\n",
    "|1     |122.0\t|64.0\t |65.59     |\n",
    "|2\t   |83.0\t|90.0\t |47.98     |\n",
    "|3\t   |85.0\t|270.0\t |23.94     |\n",
    "<center>Survival by passenger class</center>\n",
    "\n",
    "|                  | %     |\n",
    "|------------------|-------|\n",
    "|survivors 20 - 30 |  36.21|\n",
    "|survivors under 20|  38.88|\n",
    "|survivors over 30 |  40.92|\n",
    "<center>Survival by age range</center>\n",
    "\n",
    "|Sex   |survivor|deceased|% survival|\n",
    "|------|--------|--------|----------|\t\n",
    "|female|197  \t|64\t     |75.48     |\n",
    "|male  |93\t    |360\t |20.53     |\n",
    "<center>Survival by gender</center>\n",
    "\n",
    "\n",
    "|     |mean |median|std  |\n",
    "|-----|-----|------|-----|\n",
    "|WOMEN|27.91| 27.0 |14.11|\n",
    "|MEN  |30.73| 29.0 |14.68|\n",
    "<center>Study of passengers ages</center>\n",
    "\n",
    "|                        |     %   |\n",
    "|------------------------|---------|\n",
    "|female survivors 20 - 30|  74.39  |\n",
    "|male survivors 20 - 30  |  15.33  |\n",
    "<center>Survival for male and female on the 20-30 age range </center>\n",
    "\n",
    "\n",
    "|Pclass| male |\tfemale|\t% male  |% female | % m surv|% f surv |\n",
    "|------|------|-------|---------|---------|---------|---------|\n",
    "|1\t   |101.0 |\t85.0  |54.30\t|45.70    |39.60\t|96.47    |\n",
    "|2\t   |99.0  |\t74.0  |57.23\t|42.77\t  |15.15\t|91.90    |\n",
    "|3\t   |253.0 | 102.0 |71.27\t|28.73\t  |15.02\t|46.08    |\n",
    "<center>Survival by gender and class</center>\n",
    "\n",
    "\n",
    "|Embarked\t|survivor|deceased|\t% survival |\n",
    "|-----------|--------|--------|------------|\t\t\n",
    "|Cherbourg  |79.0\t |51.0\t  |60.77       |\n",
    "|Queenstown\t|8.0\t |20.0\t  |28.57       |\n",
    "|Southampton|201.0\t |353.0\t  |36.28       |\n",
    "|Unknown\t|2.0\t |0.0\t  |100.00      |\n",
    "<center>Survival by embarkment port</center>\n"
   ]
  },
  {
   "cell_type": "code",
   "execution_count": null,
   "metadata": {
    "collapsed": true
   },
   "outputs": [],
   "source": []
  }
 ],
 "metadata": {
  "kernelspec": {
   "display_name": "Python [Root]",
   "language": "python",
   "name": "Python [Root]"
  },
  "language_info": {
   "codemirror_mode": {
    "name": "ipython",
    "version": 2
   },
   "file_extension": ".py",
   "mimetype": "text/x-python",
   "name": "python",
   "nbconvert_exporter": "python",
   "pygments_lexer": "ipython2",
   "version": "2.7.12"
  }
 },
 "nbformat": 4,
 "nbformat_minor": 1
}
